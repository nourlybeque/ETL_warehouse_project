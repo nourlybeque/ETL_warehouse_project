{
 "cells": [
  {
   "cell_type": "code",
   "execution_count": 1,
   "id": "680a71a4-c934-4ef6-a35c-2143b5f04f11",
   "metadata": {},
   "outputs": [],
   "source": [
    "# ETL Project: Load Products and Categories into SQL Server\n",
    "# 1. Import Libraries\n",
    "import pandas as pd\n",
    "import pyodbc"
   ]
  },
  {
   "cell_type": "code",
   "execution_count": 3,
   "id": "e6864f87-58b5-480d-9a41-981bdb1a6b16",
   "metadata": {},
   "outputs": [
    {
     "name": "stdout",
     "output_type": "stream",
     "text": [
      "Products Data:\n",
      "   product_id product_name  price  category_id\n",
      "0           1       Laptop   1200            1\n",
      "1           2     Keyboard    100            2\n",
      "2           3        Mouse     50            2\n",
      "3           4      Monitor    300            1\n",
      "4           5         Desk    250            3\n",
      "\n",
      "Categories Data:\n",
      "   category_id category_name\n",
      "0            1   Electronics\n",
      "1            2   Accessories\n",
      "2            3     Furniture\n"
     ]
    }
   ],
   "source": [
    "# 2. Extract: Read CSV files\n",
    "products_df = pd.read_csv('products.csv')\n",
    "categories_df = pd.read_csv('categories.csv')\n",
    "\n",
    "print(\"Products Data:\")\n",
    "print(products_df)\n",
    "\n",
    "print(\"\\nCategories Data:\")\n",
    "print(categories_df)"
   ]
  },
  {
   "cell_type": "code",
   "execution_count": 5,
   "id": "8e250860-391d-414c-ab9a-e38b10e15dd5",
   "metadata": {},
   "outputs": [
    {
     "name": "stdout",
     "output_type": "stream",
     "text": [
      "\n",
      "Merged Data:\n",
      "   product_id product_name   price  category_id category_name\n",
      "0           1       Laptop  1320.0            1   Electronics\n",
      "1           2     Keyboard   110.0            2   Accessories\n",
      "2           3        Mouse    55.0            2   Accessories\n",
      "3           4      Monitor   330.0            1   Electronics\n",
      "4           5         Desk   275.0            3     Furniture\n"
     ]
    }
   ],
   "source": [
    "# 3. Transform: Data Cleaning / Business Rules\n",
    "# - Increase price by 10%\n",
    "products_df['price'] = products_df['price'] * 1.10\n",
    "\n",
    "# - Merge products with categories (optional for later use)\n",
    "merged_df = pd.merge(products_df, categories_df, on='category_id', how='left')\n",
    "\n",
    "print(\"\\nMerged Data:\")\n",
    "print(merged_df)"
   ]
  },
  {
   "cell_type": "code",
   "execution_count": 9,
   "id": "1618a8f6-15ad-4f26-98cb-3bfa056885d4",
   "metadata": {},
   "outputs": [],
   "source": [
    "# 4. Connect to SQL Server\n",
    "conn = pyodbc.connect(\n",
    "    'Driver={SQL Server};'\n",
    "    'Server=LAPTOP-23T0BMCL\\\\SQLEXPRESS;'\n",
    "    'Database=ETL_Project;'\n",
    "    'Trusted_Connection=yes;'\n",
    ")\n",
    "cursor = conn.cursor()"
   ]
  },
  {
   "cell_type": "code",
   "execution_count": 11,
   "id": "eda2ae2b-49aa-43d0-a787-2bf37f89a9eb",
   "metadata": {},
   "outputs": [],
   "source": [
    "# 5. Create Tables (if not exist)\n",
    "\n",
    "# Create categories table\n",
    "create_categories_query = \"\"\"\n",
    "IF OBJECT_ID('categories', 'U') IS NULL\n",
    "BEGIN\n",
    "    CREATE TABLE categories (\n",
    "        category_id INT PRIMARY KEY,\n",
    "        category_name NVARCHAR(100)\n",
    "    )\n",
    "END\n",
    "\"\"\"\n",
    "cursor.execute(create_categories_query)\n",
    "conn.commit()"
   ]
  },
  {
   "cell_type": "code",
   "execution_count": 13,
   "id": "29f36cb9-d592-4564-8706-b410e06f879d",
   "metadata": {},
   "outputs": [],
   "source": [
    "# Create products table\n",
    "\n",
    "create_products_query = \"\"\"\n",
    "IF OBJECT_ID('products', 'U') IS NULL\n",
    "BEGIN\n",
    "    CREATE TABLE products (\n",
    "        product_id INT PRIMARY KEY,\n",
    "        product_name NVARCHAR(100),\n",
    "        price FLOAT,\n",
    "        category_id INT FOREIGN KEY REFERENCES categories(category_id)\n",
    "    )\n",
    "END\n",
    "\"\"\"\n",
    "cursor.execute(create_products_query)\n",
    "conn.commit()"
   ]
  },
  {
   "cell_type": "code",
   "execution_count": 15,
   "id": "5b3bf5f0-c6e1-4ba1-9a59-23ae1fe0a7ff",
   "metadata": {},
   "outputs": [],
   "source": [
    "# 6. Load: Insert Data\n",
    "\n",
    "# Insert categories\n",
    "for index, row in categories_df.iterrows():\n",
    "    cursor.execute(\n",
    "        \"IF NOT EXISTS (SELECT 1 FROM categories WHERE category_id = ?) \"\n",
    "        \"INSERT INTO categories (category_id, category_name) VALUES (?, ?)\",\n",
    "        int(row['category_id']),\n",
    "        int(row['category_id']),\n",
    "        row['category_name']\n",
    "    )\n",
    "conn.commit()"
   ]
  },
  {
   "cell_type": "code",
   "execution_count": 17,
   "id": "1deec0c4-37f8-41ce-8f72-817883107ac2",
   "metadata": {},
   "outputs": [],
   "source": [
    "# Insert products\n",
    "for index, row in products_df.iterrows():\n",
    "    cursor.execute(\n",
    "        \"IF NOT EXISTS (SELECT 1 FROM products WHERE product_id = ?) \"\n",
    "        \"INSERT INTO products (product_id, product_name, price, category_id) VALUES (?, ?, ?, ?)\",\n",
    "        int(row['product_id']),\n",
    "        int(row['product_id']),\n",
    "        row['product_name'],\n",
    "        float(row['price']),\n",
    "        int(row['category_id'])\n",
    "    )\n",
    "conn.commit()"
   ]
  },
  {
   "cell_type": "code",
   "execution_count": 19,
   "id": "8597aa4a-76de-48e3-9513-b3680aa81852",
   "metadata": {},
   "outputs": [
    {
     "name": "stdout",
     "output_type": "stream",
     "text": [
      "\n",
      "Products from SQL Server:\n",
      "   product_id product_name   price  category_id\n",
      "0           1       Laptop  1320.0            1\n",
      "1           2     Keyboard   110.0            2\n",
      "2           3        Mouse    55.0            2\n",
      "3           4      Monitor   330.0            1\n",
      "4           5         Desk   275.0            3\n",
      "\n",
      "Categories from SQL Server:\n",
      "   category_id category_name\n",
      "0            1   Electronics\n",
      "1            2   Accessories\n",
      "2            3     Furniture\n"
     ]
    },
    {
     "name": "stderr",
     "output_type": "stream",
     "text": [
      "C:\\Users\\hp\\AppData\\Local\\Temp\\ipykernel_2176\\1641064325.py:3: UserWarning: pandas only supports SQLAlchemy connectable (engine/connection) or database string URI or sqlite3 DBAPI2 connection. Other DBAPI2 objects are not tested. Please consider using SQLAlchemy.\n",
      "  products_from_db = pd.read_sql(\"SELECT * FROM products\", conn)\n",
      "C:\\Users\\hp\\AppData\\Local\\Temp\\ipykernel_2176\\1641064325.py:4: UserWarning: pandas only supports SQLAlchemy connectable (engine/connection) or database string URI or sqlite3 DBAPI2 connection. Other DBAPI2 objects are not tested. Please consider using SQLAlchemy.\n",
      "  categories_from_db = pd.read_sql(\"SELECT * FROM categories\", conn)\n"
     ]
    }
   ],
   "source": [
    "# 7. Verify: Read back the data\n",
    "\n",
    "products_from_db = pd.read_sql(\"SELECT * FROM products\", conn)\n",
    "categories_from_db = pd.read_sql(\"SELECT * FROM categories\", conn)\n",
    "\n",
    "print(\"\\nProducts from SQL Server:\")\n",
    "print(products_from_db)\n",
    "\n",
    "print(\"\\nCategories from SQL Server:\")\n",
    "print(categories_from_db)"
   ]
  },
  {
   "cell_type": "code",
   "execution_count": 21,
   "id": "6c5cc684-59e9-4888-b831-219b0df29808",
   "metadata": {},
   "outputs": [],
   "source": [
    "# 8. Close connection\n",
    "cursor.close()\n",
    "conn.close()"
   ]
  },
  {
   "cell_type": "code",
   "execution_count": 23,
   "id": "bffdc581-d428-40b2-bbf1-688398c00b9f",
   "metadata": {},
   "outputs": [
    {
     "name": "stdout",
     "output_type": "stream",
     "text": [
      "\n",
      "Average Price per Category:\n",
      "  category_name  price\n",
      "0   Accessories   82.5\n",
      "1   Electronics  825.0\n",
      "2     Furniture  275.0\n"
     ]
    }
   ],
   "source": [
    "# 9. Visualization: Average Price per Category\n",
    "\n",
    "import matplotlib.pyplot as plt\n",
    "import seaborn as sns\n",
    "\n",
    "# Prepare data\n",
    "avg_price_per_category = merged_df.groupby('category_name')['price'].mean().reset_index()\n",
    "\n",
    "print(\"\\nAverage Price per Category:\")\n",
    "print(avg_price_per_category)"
   ]
  },
  {
   "cell_type": "code",
   "execution_count": 27,
   "id": "9b9e3ca1-639a-4144-99f6-d570c4e4afa5",
   "metadata": {},
   "outputs": [
    {
     "data": {
      "image/png": "[encoded data removed]",
      "text/plain": [
       "<Figure size 800x600 with 1 Axes>"
      ]
     },
     "metadata": {},
     "output_type": "display_data"
    }
   ],
   "source": [
    "# Plot\n",
    "plt.figure(figsize=(8, 6))\n",
    "sns.barplot(\n",
    "    x='price',\n",
    "    y='category_name',\n",
    "    hue='category_name',\n",
    "    legend=False,\n",
    "    data=avg_price_per_category,\n",
    "    palette='viridis'\n",
    ")\n",
    "\n",
    "plt.title('Average Product Price per Category', fontsize=16)\n",
    "plt.xlabel('Average Price ($)', fontsize=12)\n",
    "plt.ylabel('Category', fontsize=12)\n",
    "plt.grid(axis='x', linestyle='--', alpha=0.7)\n",
    "plt.tight_layout()\n",
    "plt.show()"
   ]
  },
  {
   "cell_type": "code",
   "execution_count": null,
   "id": "1f716cd0-3df2-410f-909d-6daba3587c30",
   "metadata": {},
   "outputs": [],
   "source": []
  }
 ],
 "metadata": {
  "kernelspec": {
   "display_name": "Python [conda env:base] *",
   "language": "python",
   "name": "conda-base-py"
  },
  "language_info": {
   "codemirror_mode": {
    "name": "ipython",
    "version": 3
   },
   "file_extension": ".py",
   "mimetype": "text/x-python",
   "name": "python",
   "nbconvert_exporter": "python",
   "pygments_lexer": "ipython3",
   "version": "3.12.3"
  }
 },
 "nbformat": 4,
 "nbformat_minor": 5
}
